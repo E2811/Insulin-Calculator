{
 "cells": [
  {
   "cell_type": "code",
   "execution_count": 1,
   "metadata": {},
   "outputs": [
    {
     "name": "stderr",
     "output_type": "stream",
     "text": [
      "Using TensorFlow backend.\n"
     ]
    }
   ],
   "source": [
    "import predict as P"
   ]
  },
  {
   "cell_type": "code",
   "execution_count": 3,
   "metadata": {},
   "outputs": [
    {
     "name": "stdout",
     "output_type": "stream",
     "text": [
      "Probability: 0.9996840953826904--> pizza\n"
     ]
    }
   ],
   "source": [
    "pred, np_image = P.food_prediction('input/pizza.jpg')"
   ]
  },
  {
   "cell_type": "code",
   "execution_count": 4,
   "metadata": {},
   "outputs": [
    {
     "name": "stdout",
     "output_type": "stream",
     "text": [
      "Probability: 0.9373654127120972--> hamburguer\n"
     ]
    }
   ],
   "source": [
    "pred, np_image = P.food_prediction('input/ham.jpg')"
   ]
  },
  {
   "cell_type": "code",
   "execution_count": 5,
   "metadata": {},
   "outputs": [
    {
     "name": "stdout",
     "output_type": "stream",
     "text": [
      "Probability: 0.8285348415374756--> rice\n"
     ]
    }
   ],
   "source": [
    "pred, np_image = P.food_prediction('input/arroz.jpg')"
   ]
  },
  {
   "cell_type": "code",
   "execution_count": 6,
   "metadata": {},
   "outputs": [
    {
     "name": "stdout",
     "output_type": "stream",
     "text": [
      "Probability: 0.5529123544692993--> egg\n"
     ]
    }
   ],
   "source": [
    "pred, np_image = P.food_prediction('input/tortilla.jpg')"
   ]
  },
  {
   "cell_type": "code",
   "execution_count": 8,
   "metadata": {},
   "outputs": [
    {
     "name": "stdout",
     "output_type": "stream",
     "text": [
      "Probability: 0.5267350673675537--> cheese\n"
     ]
    }
   ],
   "source": [
    "pred, np_image = P.food_prediction('input/cheese.jpg')"
   ]
  },
  {
   "cell_type": "code",
   "execution_count": 9,
   "metadata": {},
   "outputs": [
    {
     "name": "stdout",
     "output_type": "stream",
     "text": [
      "Probability: 0.5070837140083313--> meat\n"
     ]
    }
   ],
   "source": [
    "pred, np_image = P.food_prediction('input/meat.jpg')"
   ]
  },
  {
   "cell_type": "code",
   "execution_count": 10,
   "metadata": {},
   "outputs": [
    {
     "name": "stdout",
     "output_type": "stream",
     "text": [
      "Probability: 0.8623705506324768--> fruit&veggies\n"
     ]
    }
   ],
   "source": [
    "pred, np_image = P.food_prediction('input/salad.jpg')"
   ]
  },
  {
   "cell_type": "code",
   "execution_count": 29,
   "metadata": {},
   "outputs": [
    {
     "name": "stdout",
     "output_type": "stream",
     "text": [
      "Probability: 0.5007548928260803--> pasta\n"
     ]
    }
   ],
   "source": [
    "pred, np_image = P.food_prediction('input/pasta.jpg')"
   ]
  },
  {
   "cell_type": "code",
   "execution_count": 43,
   "metadata": {},
   "outputs": [
    {
     "name": "stdout",
     "output_type": "stream",
     "text": [
      "Probability: 0.9700512886047363--> rice\n"
     ]
    }
   ],
   "source": [
    "pred, np_image = P.food_prediction('input/maspasta.jpg')"
   ]
  },
  {
   "cell_type": "code",
   "execution_count": 36,
   "metadata": {},
   "outputs": [
    {
     "name": "stdout",
     "output_type": "stream",
     "text": [
      "Probability: 0.7297667264938354--> pizza\n"
     ]
    }
   ],
   "source": [
    "pred, np_image = P.food_prediction('input/pizzaa.jpg')"
   ]
  },
  {
   "cell_type": "code",
   "execution_count": 34,
   "metadata": {},
   "outputs": [
    {
     "name": "stdout",
     "output_type": "stream",
     "text": [
      "Probability: 0.7450397610664368--> pizza\n"
     ]
    }
   ],
   "source": [
    "pred, np_image = P.food_prediction('input/pizzaaa.jpg')"
   ]
  },
  {
   "cell_type": "code",
   "execution_count": 38,
   "metadata": {},
   "outputs": [
    {
     "name": "stdout",
     "output_type": "stream",
     "text": [
      "Probability: 0.9999134540557861--> meat\n"
     ]
    }
   ],
   "source": [
    "pred, np_image = P.food_prediction('input/carne.jpeg')"
   ]
  },
  {
   "cell_type": "code",
   "execution_count": 39,
   "metadata": {},
   "outputs": [
    {
     "name": "stdout",
     "output_type": "stream",
     "text": [
      "Probability: 0.5070837140083313--> meat\n"
     ]
    }
   ],
   "source": [
    "pred, np_image = P.food_prediction('input/meat.jpg')"
   ]
  },
  {
   "cell_type": "code",
   "execution_count": 41,
   "metadata": {},
   "outputs": [
    {
     "name": "stdout",
     "output_type": "stream",
     "text": [
      "Probability: 0.9992326498031616--> fruit&veggies\n"
     ]
    }
   ],
   "source": [
    "pred, np_image = P.food_prediction('input/verdura.jpeg')"
   ]
  },
  {
   "cell_type": "code",
   "execution_count": 42,
   "metadata": {},
   "outputs": [
    {
     "name": "stdout",
     "output_type": "stream",
     "text": [
      "Probability: 0.9954903721809387--> pasta\n"
     ]
    }
   ],
   "source": [
    "pred, np_image = P.food_prediction('input/pasta/3669898.jpg')"
   ]
  },
  {
   "cell_type": "code",
   "execution_count": 48,
   "metadata": {},
   "outputs": [
    {
     "name": "stdout",
     "output_type": "stream",
     "text": [
      "Probability: 0.991979718208313--> pasta\n"
     ]
    }
   ],
   "source": [
    "pred, np_image = P.food_prediction('input/pastapesto.jpg')"
   ]
  }
 ],
 "metadata": {
  "kernelspec": {
   "display_name": "Python 3",
   "language": "python",
   "name": "python3"
  },
  "language_info": {
   "codemirror_mode": {
    "name": "ipython",
    "version": 3
   },
   "file_extension": ".py",
   "mimetype": "text/x-python",
   "name": "python",
   "nbconvert_exporter": "python",
   "pygments_lexer": "ipython3",
   "version": "3.7.5"
  }
 },
 "nbformat": 4,
 "nbformat_minor": 4
}
